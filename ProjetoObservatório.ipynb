{
 "cells": [
  {
   "cell_type": "markdown",
   "id": "80819616",
   "metadata": {},
   "source": [
    "<center><img widh=\"70%\" src=\"img/logo.png\"></center>"
   ]
  },
  {
   "cell_type": "markdown",
   "id": "fb94efdf",
   "metadata": {},
   "source": [
    "# **Observatório Social - Prefeitura Municipal de Indaial/SC**\n",
    "### <font color='#232679'> *Webscrapping com Python | Criação e alimentação de DW*\n",
    "*by [GUILHERME MADEIRA BAECE](https://github.com/GMBaece)"
   ]
  },
  {
   "cell_type": "code",
   "execution_count": 1,
   "id": "fb60d40e",
   "metadata": {},
   "outputs": [],
   "source": [
    "# Bibliotecas utilizadas\n",
    "import pandas as pd\n",
    "import bs4\n",
    "import requests\n",
    "from urllib.request import Request, urlopen\n",
    "from urllib.error import URLError, HTTPError\n",
    "import time\n",
    "import pyodbc"
   ]
  },
  {
   "cell_type": "code",
   "execution_count": 2,
   "id": "36f563f8",
   "metadata": {},
   "outputs": [],
   "source": [
    "# Site da prefeitura de Indaial\n",
    "url = 'https://www.camaraindaial.sc.gov.br/pg/proposicoes'"
   ]
  },
  {
   "cell_type": "code",
   "execution_count": 3,
   "id": "2a4b9120",
   "metadata": {},
   "outputs": [],
   "source": [
    "# User Agent\n",
    "agente = 'Mozilla/5.0 (Windows NT 10.0; Win64; x64) AppleWebKit/537.36 (KHTML, like Gecko) Chrome/106.0.0.0 Safari/537.36'\n",
    "\n",
    "# dicionário criado para armazenar o valor User Agent\n",
    "headers = {'User-Agent': agente}"
   ]
  },
  {
   "cell_type": "code",
   "execution_count": 4,
   "id": "b8c2db26",
   "metadata": {},
   "outputs": [],
   "source": [
    "# Função para capturar dados do site e tratar erros\n",
    "def consultaWeb(url):\n",
    "    try:\n",
    "        req = Request(url, headers = headers)\n",
    "        response = urlopen(req)\n",
    "        return response.read()\n",
    "    \n",
    "    except:\n",
    "        pass"
   ]
  },
  {
   "cell_type": "code",
   "execution_count": 5,
   "id": "7389c4d2",
   "metadata": {},
   "outputs": [],
   "source": [
    "# Função para transofrmar os dados do site em algo mais leggpivel, utilizando a biblioteca bs4\n",
    "def captura_html_pagina(url):\n",
    "    html = consultaWeb(url)\n",
    "    soup = bs4.BeautifulSoup(html, 'html.parser')\n",
    "    return soup"
   ]
  },
  {
   "cell_type": "code",
   "execution_count": 6,
   "id": "974a3fc0",
   "metadata": {},
   "outputs": [],
   "source": [
    "url = 'https://www.legislador.com.br//LegisladorWEB.ASP?WCI=ProposicaoTexto&ID=3&TPProposicao=1&nrProposicao=853&aaProposicao=2022'"
   ]
  },
  {
   "cell_type": "code",
   "execution_count": 7,
   "id": "e6550504",
   "metadata": {},
   "outputs": [],
   "source": [
    "# Função para criar um dicionário com os dados encontrados no site por meio da extração do conteúdo alocado nos elementos identificados no código HTML\n",
    "def DictDados(html):\n",
    "    dt = html.findAll('dt')\n",
    "    dd = html.findAll('dd')\n",
    "    dic = {}\n",
    "    for i in range(len(dt)):\n",
    "        x = dt[i].get_text()\n",
    "        y = dd[i].get_text()\n",
    "        dic[x] = y\n",
    "    return dic"
   ]
  },
  {
   "cell_type": "code",
   "execution_count": 8,
   "id": "454cbd6e",
   "metadata": {},
   "outputs": [],
   "source": [
    "# Função para inserir os dados restantes no dicionário criado acima, inserindo o número da proposição, o ano e buscando também o texto que está alocado em um outro elemento no HTML\n",
    "def Conteudo(proposicao,ano):\n",
    "    \n",
    "    url = 'https://www.legislador.com.br//LegisladorWEB.ASP?WCI=ProposicaoTexto&ID=3&TPProposicao=1&nrProposicao='+str(proposicao)+'&aaProposicao='+str(ano)\n",
    "    html = captura_html_pagina(url)\n",
    "    \n",
    "    try:\n",
    "        dt = html.findAll('dt')\n",
    "        if len(dt) == 0:                            #condicional para evitar que respostas vazias sejam retornadas \n",
    "            new_dict = DictDados(html)\n",
    "            return new_dict\n",
    "        else:\n",
    "                        \n",
    "            new_dict = DictDados(html)\n",
    "            new_dict['Proposição'] = proposicao\n",
    "            new_dict['Ano'] = ano\n",
    "            new_dict['Texto'] = html.p.get_text()\n",
    "            \n",
    "            return new_dict\n",
    "    except:\n",
    "        pass\n"
   ]
  },
  {
   "cell_type": "code",
   "execution_count": 9,
   "id": "6c819ddf",
   "metadata": {},
   "outputs": [
    {
     "data": {
      "text/plain": [
       "{'Reunião': '03/11/2022',\n",
       " 'Situação': 'Entrada no Expediente',\n",
       " 'Assunto': 'Limpeza, Macadamização, Patrolamento, Retificação; Alargamento',\n",
       " 'Autor': 'Vereador Anderson Luz dos Santos.'}"
      ]
     },
     "execution_count": 9,
     "metadata": {},
     "output_type": "execute_result"
    }
   ],
   "source": [
    "# Teste da função \n",
    "# Conteudo(853,2022)\n",
    "html = captura_html_pagina(url)\n",
    "DictDados(html)"
   ]
  },
  {
   "cell_type": "code",
   "execution_count": null,
   "id": "5d78c056",
   "metadata": {},
   "outputs": [],
   "source": [
    "#Função que reúne os processoas anteriores e retorna em uma tabela organizada com o método DataFrame do Pandas\n",
    "def TabelaResultados(inicio, quantidade, ano, erros_admissiveis, segundos_espera):\n",
    "    \n",
    "    ultima_consulta = inicio + quantidade -1\n",
    "    \n",
    "    #erros\n",
    "    erros = 0\n",
    "    \n",
    "    #variaveis para loop\n",
    "    i = 1\n",
    "    lista = []\n",
    "    \n",
    "    while inicio <= ultima_consulta and erros <= erros_admissiveis:\n",
    "        \n",
    "        try:\n",
    "            x = Conteudo(inicio, ano)\n",
    "            lista = lista + [Conteudo(inicio, ano)]\n",
    "        except:\n",
    "            erros += 1\n",
    "            pass\n",
    "    \n",
    "        time.sleep(segundos_espera)\n",
    "        \n",
    "        # carregamento incremental das variáveis\n",
    "        inicio += 1\n",
    "        i += 1\n",
    "        \n",
    "    return pd.DataFrame(lista)"
   ]
  },
  {
   "cell_type": "code",
   "execution_count": null,
   "id": "a38b39d5",
   "metadata": {},
   "outputs": [],
   "source": [
    "# chamar a funçãoTabelaResultados\n",
    "TabelaResultados(12,10,2022,2,0.5)"
   ]
  },
  {
   "cell_type": "code",
   "execution_count": 10,
   "id": "911623c2",
   "metadata": {},
   "outputs": [],
   "source": [
    "#Função para utilizar a linguagem SQL utilizando a biblioteca pyodbc\n",
    "def SQLSelect(query):\n",
    "    \n",
    "    conn = pyodbc.connect('Trusted_Connection=yes',\n",
    "                      driver = '{ODBC Driver 17 for SQL Server}',\n",
    "                      server = 'localhost',\n",
    "                      database = 'Indaial')\n",
    "    \n",
    "    out = pd.read_sql_query(query, conn)\n",
    "    return out"
   ]
  },
  {
   "cell_type": "code",
   "execution_count": 11,
   "id": "b9101dd7",
   "metadata": {},
   "outputs": [],
   "source": [
    "# Função para inserir dados em um banco de dados SQL Server com criação de cursor para inserir linha por linha os dados\n",
    "def SQLInsertProposicoes(TabelaProposicoes):\n",
    "    \n",
    "    base = pd.DataFrame(columns = ['Reunião','Deliberação', 'Situação', 'Assunto', 'Autor', 'Proposição', 'Ano', 'Texto'])\n",
    "    TabelaProposicoes = base.append(TabelaProposicoes).fillna('')\n",
    "    \n",
    "    conn = pyodbc.connect('Trusted_Connection=yes',\n",
    "                      driver = '{ODBC Driver 17 for SQL Server}',\n",
    "                      server = 'localhost',\n",
    "                      database = 'Indaial')\n",
    "    \n",
    "    cursor = conn.cursor()\n",
    "    \n",
    "    for index, row in TabelaProposicoes.iterrows():\n",
    "                \n",
    "        cursor.execute('''\n",
    "            \n",
    "            INSERT INTO Proposicoes(\n",
    "                DataReuniao,\n",
    "                DataDeliberacao,\n",
    "                Situacao,\n",
    "                Assunto,\n",
    "                Autor,\n",
    "                Proposicao,\n",
    "                Ano,\n",
    "                Texto\n",
    "            )\n",
    "            values(?,?,?,?,?,?,?,?)''',\n",
    "                       \n",
    "            row['Reunião'],\n",
    "            row['Deliberação'],\n",
    "            row['Situação'],\n",
    "            row['Assunto'],\n",
    "            row['Autor'],\n",
    "            row['Proposição'],\n",
    "            row['Ano'],\n",
    "            row['Texto']\n",
    "                       \n",
    "        )\n",
    "        \n",
    "    conn.commit()\n",
    "    cursor.close()"
   ]
  },
  {
   "cell_type": "code",
   "execution_count": 167,
   "id": "af5817b6",
   "metadata": {},
   "outputs": [
    {
     "ename": "SyntaxError",
     "evalue": "invalid syntax (<ipython-input-167-da307f55e209>, line 5)",
     "output_type": "error",
     "traceback": [
      "\u001b[1;36m  File \u001b[1;32m\"<ipython-input-167-da307f55e209>\"\u001b[1;36m, line \u001b[1;32m5\u001b[0m\n\u001b[1;33m    ''')kl\u001b[0m\n\u001b[1;37m          \n^\u001b[0m\n\u001b[1;31mSyntaxError\u001b[0m\u001b[1;31m:\u001b[0m invalid syntax\n"
     ]
    }
   ],
   "source": [
    "# chamar a função select\n",
    "SQLSelect('''\n",
    "    select \n",
    "        *\n",
    "    from Proposicoes\n",
    "''')"
   ]
  },
  {
   "cell_type": "code",
   "execution_count": 14,
   "id": "96d8618a",
   "metadata": {},
   "outputs": [],
   "source": [
    "# Função para truncar tabela no SQL\n",
    "def SQLTruncate(NomeTabela):\n",
    "    \n",
    "    conn = pyodbc.connect('Trusted_Connection=yes', \n",
    "                          driver = '{ODBC Driver 17 for SQL Server}',\n",
    "                          server = 'localhost', \n",
    "                          database = 'Indaial')\n",
    "    \n",
    "    cursor = conn.cursor()\n",
    "    \n",
    "    cursor.execute(f'''\n",
    "                    \n",
    "                    TRUNCATE TABLE {NomeTabela}\n",
    "                    \n",
    "                    ''')\n",
    "    \n",
    "    conn.commit()\n",
    "    cursor.close()\n",
    "    "
   ]
  },
  {
   "cell_type": "code",
   "execution_count": 28,
   "id": "c8f9b302",
   "metadata": {},
   "outputs": [],
   "source": [
    "#chamar a função truncate\n",
    "# SQLTruncate('Proposicoesl')"
   ]
  },
  {
   "cell_type": "code",
   "execution_count": 12,
   "id": "0219de46",
   "metadata": {},
   "outputs": [],
   "source": [
    "# função que utiliza os métodos criados para inserir os dados de um ano inteiro no banco de dados atreavés de um loop  \n",
    "def BuscaGravaDados(ano, quantidade = 10, erros_admissiveis = 2, segundos_espera = 0.5):\n",
    "    \n",
    "    erros = 0\n",
    "    next_prop = 0\n",
    "    \n",
    "    lista = []\n",
    "    i = 1\n",
    "    \n",
    "    while erros <= erros_admissiveis:\n",
    "        \n",
    "        try:\n",
    "            dados_ano = SQLSelect(f'select Proposicao = max(Proposicao) from Proposicoes where Ano = {ano}')\n",
    "            ultima_proposicao = dados_ano['Proposicao'].loc[0]\n",
    "            \n",
    "            if ultima_proposicao == None:                           # estrutura 1 p/ começar a inserção pelo 1° dado\n",
    "                proxima_proposicao = 1  \n",
    "            elif next_prop == 1:                                    # estrutura 2 p/ evitar que dados vazios sejam inseridos no banco de dados \n",
    "                proxima_proposicao = ultima_proposicao + 2\n",
    "                next_prop = 0\n",
    "            else:\n",
    "                proxima_proposicao = ultima_proposicao + 1          # estrutura 3 p/ começar a inserção pelo último dado encontrado no banco de dados\n",
    "                \n",
    "            dados = Conteudo(proxima_proposicao, ano)\n",
    "            if len(dados) == 0:\n",
    "                erros += 1                      # estrutura para retornar o erro p/ as variáveis que são parâmetros na estrutura anterior\n",
    "                next_prop = 1\n",
    "            else:\n",
    "                tabela = pd.DataFrame([dados])\n",
    "                SQLInsertProposicoes(tabela)\n",
    "        except:\n",
    "            erros += 1\n",
    "            pass\n",
    "        \n",
    "        time.sleep(segundos_espera)\n",
    "        i += 1"
   ]
  },
  {
   "cell_type": "code",
   "execution_count": 17,
   "id": "ed9b30d4",
   "metadata": {},
   "outputs": [
    {
     "name": "stdout",
     "output_type": "stream",
     "text": [
      "Iniciando gravação dos dados do ano:  1996\n",
      "Inserção finalizada 😁\n"
     ]
    }
   ],
   "source": [
    "# loop para automatizar a inserção dos dados utilizando uma lista de anos \n",
    "ano_inicial = 1996\n",
    "ano_final = 1996\n",
    "\n",
    "for i in list(range(ano_inicial, ano_final+1)):\n",
    "    print('Iniciando gravação dos dados do ano: ',i)\n",
    "    try:\n",
    "        BuscaGravaDados(i, quantidade = 999999)\n",
    "    except:\n",
    "        pass\n",
    "    \n",
    "print('Inserção finalizada 😁')"
   ]
  }
 ],
 "metadata": {
  "kernelspec": {
   "display_name": "Python 3.6.6 64-bit",
   "language": "python",
   "name": "python3"
  },
  "language_info": {
   "codemirror_mode": {
    "name": "ipython",
    "version": 3
   },
   "file_extension": ".py",
   "mimetype": "text/x-python",
   "name": "python",
   "nbconvert_exporter": "python",
   "pygments_lexer": "ipython3",
   "version": "3.6.6"
  },
  "vscode": {
   "interpreter": {
    "hash": "52634da84371cba311ea128a5ea7cdc41ff074b781779e754b270ff9f8153cee"
   }
  }
 },
 "nbformat": 4,
 "nbformat_minor": 5
}
